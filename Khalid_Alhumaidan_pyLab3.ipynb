{
 "cells": [
  {
   "cell_type": "markdown",
   "metadata": {},
   "source": [
    "# Loops\n",
    "\n",
    "### 1) Using range(), make a range from 45 to 210, using a for loop iterate over the sequence and print the elements. Skip the number 100 and break the loop at 205.\n",
    "\n",
    "### 2) Using a while loop and input, do the following:\n",
    "- Ask the the user : \"what is the product of 7 * 24 ?\"\n",
    "- check if the answer is right then exit the loop and print \"You answered this Question correctly\".\n",
    "- if the answer is wrong, then print \"Your Answer is wrong try again..\" and show the user the question again.\n"
   ]
  },
  {
   "cell_type": "code",
   "execution_count": 2,
   "metadata": {},
   "outputs": [
    {
     "name": "stdout",
     "output_type": "stream",
     "text": [
      "45, 46, 47, 48, 49, 50, 51, 52, 53, 54, 55, 56, 57, 58, 59, 60, 61, 62, 63, 64, 65, 66, 67, 68, 69, 70, 71, 72, 73, 74, 75, 76, 77, 78, 79, 80, 81, 82, 83, 84, 85, 86, 87, 88, 89, 90, 91, 92, 93, 94, 95, 96, 97, 98, 99, 101, 102, 103, 104, 105, 106, 107, 108, 109, 110, 111, 112, 113, 114, 115, 116, 117, 118, 119, 120, 121, 122, 123, 124, 125, 126, 127, 128, 129, 130, 131, 132, 133, 134, 135, 136, 137, 138, 139, 140, 141, 142, 143, 144, 145, 146, 147, 148, 149, 150, 151, 152, 153, 154, 155, 156, 157, 158, 159, 160, 161, 162, 163, 164, 165, 166, 167, 168, 169, 170, 171, 172, 173, 174, 175, 176, 177, 178, 179, 180, 181, 182, 183, 184, 185, 186, 187, 188, 189, 190, 191, 192, 193, 194, 195, 196, 197, 198, 199, 200, 201, 202, 203, 204, "
     ]
    }
   ],
   "source": [
    "#1\n",
    "for i in range(45,210):\n",
    "    if i == 100:\n",
    "        continue\n",
    "    elif i == 205:\n",
    "        break\n",
    "    else:\n",
    "        print(i , end = ', ')"
   ]
  },
  {
   "cell_type": "code",
   "execution_count": 14,
   "metadata": {},
   "outputs": [
    {
     "name": "stdout",
     "output_type": "stream",
     "text": [
      "What is the product of 7 * 24?\n",
      "Your Answer is wrong try again..\n",
      "What is the product of 7 * 24?\n",
      "Your Answer is wrong try again..\n",
      "What is the product of 7 * 24?\n",
      "Please enter an integer value.\n",
      "What is the product of 7 * 24?\n",
      "You answered this Question correctly!\n"
     ]
    }
   ],
   "source": [
    "#2\n",
    "while True:\n",
    "    print('What is the product of 7 * 24?')\n",
    "    try:\n",
    "        answer = int(input('Enter your answer: '))\n",
    "        if answer == 7 * 24:\n",
    "            print('You answered this Question correctly!')\n",
    "            break\n",
    "        else: \n",
    "           print('Your Answer is wrong try again..')\n",
    "    except ValueError:\n",
    "        print('Please enter an integer value.')"
   ]
  }
 ],
 "metadata": {
  "kernelspec": {
   "display_name": "Python 3",
   "language": "python",
   "name": "python3"
  },
  "language_info": {
   "codemirror_mode": {
    "name": "ipython",
    "version": 3
   },
   "file_extension": ".py",
   "mimetype": "text/x-python",
   "name": "python",
   "nbconvert_exporter": "python",
   "pygments_lexer": "ipython3",
   "version": "3.10.2"
  },
  "orig_nbformat": 4
 },
 "nbformat": 4,
 "nbformat_minor": 2
}
